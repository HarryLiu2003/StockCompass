{
 "cells": [
  {
   "cell_type": "code",
   "execution_count": 9,
   "metadata": {},
   "outputs": [
    {
     "name": "stdout",
     "output_type": "stream",
     "text": [
      "Status Code: 200\n",
      "Response JSON: {'status_code': 200, 'unusual_ranges': [['2025-01-16', '2025-02-03'], ['2024-07-24', '2024-08-05'], ['2024-09-19', '2024-10-01']]}\n"
     ]
    }
   ],
   "source": [
    "import yfinance as yf\n",
    "import requests\n",
    "import pandas as pd\n",
    "# URL of the unusual_ranges API endpoint.\n",
    "url = \"http://localhost:8000/api/unusual_range/\"\n",
    "\n",
    "# Retrieve historical data for AAPL using yfinance.\n",
    "hist = yf.Ticker(\"AAPL\").history(period=\"1y\",interval=\"1d\")\n",
    "\n",
    "# Build payload in the expected format:\n",
    "# - \"time\": list of date strings (\"YYYY-MM-DD\")\n",
    "# - \"price\": list of closing prices\n",
    "# - \"volume\": list of volumes\n",
    "payload = {\n",
    "    \"data\": {\n",
    "        \"time\": hist.index.strftime(\"%Y-%m-%d\").tolist(),\n",
    "        \"price\": hist[\"Close\"].tolist(),\n",
    "        \"volume\": hist[\"Volume\"].tolist()\n",
    "    }\n",
    "}\n",
    "\n",
    "# Send the POST request.\n",
    "response = requests.post(url, json=payload)\n",
    "\n",
    "# Print out the HTTP status code and the response JSON.\n",
    "print(\"Status Code:\", response.status_code)\n",
    "print(\"Response JSON:\", response.json())"
   ]
  },
  {
   "cell_type": "code",
   "execution_count": 14,
   "metadata": {},
   "outputs": [
    {
     "data": {
      "text/plain": [
       "{'currency': 'USD',\n",
       " 'symbol': 'AAPL',\n",
       " 'exchangeName': 'NMS',\n",
       " 'fullExchangeName': 'NasdaqGS',\n",
       " 'instrumentType': 'EQUITY',\n",
       " 'firstTradeDate': 345479400,\n",
       " 'regularMarketTime': 1738962002,\n",
       " 'hasPrePostMarketData': True,\n",
       " 'gmtoffset': -18000,\n",
       " 'timezone': 'EST',\n",
       " 'exchangeTimezoneName': 'America/New_York',\n",
       " 'regularMarketPrice': 227.63,\n",
       " 'fiftyTwoWeekHigh': 260.1,\n",
       " 'fiftyTwoWeekLow': 164.08,\n",
       " 'regularMarketDayHigh': 234.0,\n",
       " 'regularMarketDayLow': 227.27,\n",
       " 'regularMarketVolume': 38983016,\n",
       " 'longName': 'Apple Inc.',\n",
       " 'shortName': 'Apple Inc.',\n",
       " 'chartPreviousClose': 236.0,\n",
       " 'previousClose': 233.22,\n",
       " 'scale': 3,\n",
       " 'priceHint': 2,\n",
       " 'currentTradingPeriod': {'pre': {'timezone': 'EST',\n",
       "   'start': 1738918800,\n",
       "   'end': 1738938600,\n",
       "   'gmtoffset': -18000},\n",
       "  'regular': {'timezone': 'EST',\n",
       "   'start': 1738938600,\n",
       "   'end': 1738962000,\n",
       "   'gmtoffset': -18000},\n",
       "  'post': {'timezone': 'EST',\n",
       "   'start': 1738962000,\n",
       "   'end': 1738976400,\n",
       "   'gmtoffset': -18000}},\n",
       " 'tradingPeriods':                                           pre_start                   pre_end  \\\n",
       " Date                                                                            \n",
       " 2025-02-03 00:00:00-05:00 2025-02-03 04:00:00-05:00 2025-02-03 09:30:00-05:00   \n",
       " 2025-02-04 00:00:00-05:00 2025-02-04 04:00:00-05:00 2025-02-04 09:30:00-05:00   \n",
       " 2025-02-05 00:00:00-05:00 2025-02-05 04:00:00-05:00 2025-02-05 09:30:00-05:00   \n",
       " 2025-02-06 00:00:00-05:00 2025-02-06 04:00:00-05:00 2025-02-06 09:30:00-05:00   \n",
       " 2025-02-07 00:00:00-05:00 2025-02-07 04:00:00-05:00 2025-02-07 09:30:00-05:00   \n",
       " \n",
       "                                               start                       end  \\\n",
       " Date                                                                            \n",
       " 2025-02-03 00:00:00-05:00 2025-02-03 09:30:00-05:00 2025-02-03 16:00:00-05:00   \n",
       " 2025-02-04 00:00:00-05:00 2025-02-04 09:30:00-05:00 2025-02-04 16:00:00-05:00   \n",
       " 2025-02-05 00:00:00-05:00 2025-02-05 09:30:00-05:00 2025-02-05 16:00:00-05:00   \n",
       " 2025-02-06 00:00:00-05:00 2025-02-06 09:30:00-05:00 2025-02-06 16:00:00-05:00   \n",
       " 2025-02-07 00:00:00-05:00 2025-02-07 09:30:00-05:00 2025-02-07 16:00:00-05:00   \n",
       " \n",
       "                                          post_start                  post_end  \n",
       " Date                                                                           \n",
       " 2025-02-03 00:00:00-05:00 2025-02-03 16:00:00-05:00 2025-02-03 20:00:00-05:00  \n",
       " 2025-02-04 00:00:00-05:00 2025-02-04 16:00:00-05:00 2025-02-04 20:00:00-05:00  \n",
       " 2025-02-05 00:00:00-05:00 2025-02-05 16:00:00-05:00 2025-02-05 20:00:00-05:00  \n",
       " 2025-02-06 00:00:00-05:00 2025-02-06 16:00:00-05:00 2025-02-06 20:00:00-05:00  \n",
       " 2025-02-07 00:00:00-05:00 2025-02-07 16:00:00-05:00 2025-02-07 20:00:00-05:00  ,\n",
       " 'dataGranularity': '1h',\n",
       " 'range': '5d',\n",
       " 'validRanges': ['1d',\n",
       "  '5d',\n",
       "  '1mo',\n",
       "  '3mo',\n",
       "  '6mo',\n",
       "  '1y',\n",
       "  '2y',\n",
       "  '5y',\n",
       "  '10y',\n",
       "  'ytd',\n",
       "  'max']}"
      ]
     },
     "execution_count": 14,
     "metadata": {},
     "output_type": "execute_result"
    }
   ],
   "source": [
    "ticker = yf.Ticker(\"AAPL\")\n",
    "metadata=yf.Ticker(\"AAPL\").get_history_metadata()\n",
    "metadata"
   ]
  },
  {
   "cell_type": "code",
   "execution_count": 20,
   "metadata": {},
   "outputs": [
    {
     "name": "stdout",
     "output_type": "stream",
     "text": [
      "Last closed date: 2025-02-07\n"
     ]
    }
   ],
   "source": [
    "hist = ticker.history(period=\"1d\")\n",
    "last_closed_date = hist.index[-1].date()  # .date() converts Timestamp to a date object\n",
    "print(\"Last closed date:\", last_closed_date)"
   ]
  },
  {
   "cell_type": "code",
   "execution_count": null,
   "metadata": {},
   "outputs": [
    {
     "data": {
      "text/plain": [
       "233.22"
      ]
     },
     "execution_count": 13,
     "metadata": {},
     "output_type": "execute_result"
    }
   ],
   "source": []
  }
 ],
 "metadata": {
  "kernelspec": {
   "display_name": "py38",
   "language": "python",
   "name": "python3"
  },
  "language_info": {
   "codemirror_mode": {
    "name": "ipython",
    "version": 3
   },
   "file_extension": ".py",
   "mimetype": "text/x-python",
   "name": "python",
   "nbconvert_exporter": "python",
   "pygments_lexer": "ipython3",
   "version": "3.8.16"
  }
 },
 "nbformat": 4,
 "nbformat_minor": 2
}
